{
  "nbformat": 4,
  "nbformat_minor": 0,
  "metadata": {
    "colab": {
      "name": "cGAN_Generate_Images.ipynb",
      "version": "0.3.2",
      "provenance": [],
      "collapsed_sections": [],
      "include_colab_link": true
    },
    "kernelspec": {
      "name": "python3",
      "display_name": "Python 3"
    },
    "accelerator": "GPU"
  },
  "cells": [
    {
      "cell_type": "markdown",
      "metadata": {
        "id": "view-in-github",
        "colab_type": "text"
      },
      "source": [
        "<a href=\"https://colab.research.google.com/github/yuepingwang/sngan-projection/blob/master/cGAN_Generate_Images.ipynb\" target=\"_parent\"><img src=\"https://colab.research.google.com/assets/colab-badge.svg\" alt=\"Open In Colab\"/></a>"
      ]
    },
    {
      "cell_type": "code",
      "metadata": {
        "id": "uuRpREPC1KEn",
        "colab_type": "code",
        "outputId": "69b9162f-aeb4-48a0-aa87-9001a051732d",
        "colab": {
          "base_uri": "https://localhost:8080/",
          "height": 136
        }
      },
      "source": [
        "!apt-get install -y -qq software-properties-common python-software-properties module-init-tools\n",
        "!add-apt-repository -y ppa:alessandro-strada/ppa 2>&1 > /dev/null\n",
        "!apt-get update -qq 2>&1 > /dev/null\n",
        "!apt-get -y install -qq google-drive-ocamlfuse fuse"
      ],
      "execution_count": 1,
      "outputs": [
        {
          "output_type": "stream",
          "text": [
            "E: Package 'python-software-properties' has no installation candidate\n",
            "Selecting previously unselected package google-drive-ocamlfuse.\n",
            "(Reading database ... 130824 files and directories currently installed.)\n",
            "Preparing to unpack .../google-drive-ocamlfuse_0.7.3-0ubuntu3~ubuntu18.04.1_amd64.deb ...\n",
            "Unpacking google-drive-ocamlfuse (0.7.3-0ubuntu3~ubuntu18.04.1) ...\n",
            "Setting up google-drive-ocamlfuse (0.7.3-0ubuntu3~ubuntu18.04.1) ...\n",
            "Processing triggers for man-db (2.8.3-2ubuntu0.1) ...\n"
          ],
          "name": "stdout"
        }
      ]
    },
    {
      "cell_type": "code",
      "metadata": {
        "id": "-KwDG7Pj11li",
        "colab_type": "code",
        "colab": {}
      },
      "source": [
        "from google.colab import auth\n",
        "auth.authenticate_user()"
      ],
      "execution_count": 0,
      "outputs": []
    },
    {
      "cell_type": "code",
      "metadata": {
        "id": "sC_oVzqE133i",
        "colab_type": "code",
        "outputId": "eee5796b-93db-448a-c4b5-3a8d0030df50",
        "colab": {
          "base_uri": "https://localhost:8080/",
          "height": 105
        }
      },
      "source": [
        "from oauth2client.client import GoogleCredentials\n",
        "creds = GoogleCredentials.get_application_default()\n",
        "import getpass\n",
        "!google-drive-ocamlfuse -headless -id={creds.client_id} -secret={creds.client_secret} < /dev/null 2>&1 | grep URL\n",
        "vcode = getpass.getpass()\n",
        "!echo {vcode} | google-drive-ocamlfuse -headless -id={creds.client_id} -secret={creds.client_secret}"
      ],
      "execution_count": 3,
      "outputs": [
        {
          "output_type": "stream",
          "text": [
            "Please, open the following URL in a web browser: https://accounts.google.com/o/oauth2/auth?client_id=32555940559.apps.googleusercontent.com&redirect_uri=urn%3Aietf%3Awg%3Aoauth%3A2.0%3Aoob&scope=https%3A%2F%2Fwww.googleapis.com%2Fauth%2Fdrive&response_type=code&access_type=offline&approval_prompt=force\n",
            "··········\n",
            "Please, open the following URL in a web browser: https://accounts.google.com/o/oauth2/auth?client_id=32555940559.apps.googleusercontent.com&redirect_uri=urn%3Aietf%3Awg%3Aoauth%3A2.0%3Aoob&scope=https%3A%2F%2Fwww.googleapis.com%2Fauth%2Fdrive&response_type=code&access_type=offline&approval_prompt=force\n",
            "Please enter the verification code: Access token retrieved correctly.\n"
          ],
          "name": "stdout"
        }
      ]
    },
    {
      "cell_type": "code",
      "metadata": {
        "id": "CGNUMcb216He",
        "colab_type": "code",
        "colab": {}
      },
      "source": [
        "!mkdir -p drive\n",
        "!google-drive-ocamlfuse drive"
      ],
      "execution_count": 0,
      "outputs": []
    },
    {
      "cell_type": "code",
      "metadata": {
        "id": "pk63naVd1JEB",
        "colab_type": "code",
        "outputId": "7999f64d-3113-4978-f747-f69f734b12ba",
        "colab": {
          "base_uri": "https://localhost:8080/",
          "height": 445
        }
      },
      "source": [
        "!pip install torch torchvision\n",
        "!pip install scipy pyamg\n",
        "\n",
        "import numpy as np\n",
        "\n",
        "import torch\n",
        "import torchvision.transforms as transforms\n",
        "\n",
        "from torch.utils.data import DataLoader\n",
        "\n",
        "import matplotlib.pyplot as plt\n",
        "\n",
        "from __future__ import print_function"
      ],
      "execution_count": 6,
      "outputs": [
        {
          "output_type": "stream",
          "text": [
            "Requirement already satisfied: torch in /usr/local/lib/python3.6/dist-packages (1.1.0)\n",
            "Requirement already satisfied: torchvision in /usr/local/lib/python3.6/dist-packages (0.2.2.post3)\n",
            "Requirement already satisfied: numpy in /usr/local/lib/python3.6/dist-packages (from torch) (1.16.3)\n",
            "Requirement already satisfied: six in /usr/local/lib/python3.6/dist-packages (from torchvision) (1.12.0)\n",
            "Requirement already satisfied: pillow>=4.1.1 in /usr/local/lib/python3.6/dist-packages (from torchvision) (4.3.0)\n",
            "Requirement already satisfied: olefile in /usr/local/lib/python3.6/dist-packages (from pillow>=4.1.1->torchvision) (0.46)\n",
            "Requirement already satisfied: scipy in /usr/local/lib/python3.6/dist-packages (1.2.1)\n",
            "Collecting pyamg\n",
            "\u001b[?25l  Downloading https://files.pythonhosted.org/packages/bc/1e/979fa78eeccfb5e4c9349dee6f836371982054af339df338d11cf767b3fc/pyamg-4.0.0-cp36-cp36m-manylinux1_x86_64.whl (6.4MB)\n",
            "\u001b[K     |████████████████████████████████| 6.4MB 4.4MB/s \n",
            "\u001b[?25hRequirement already satisfied: numpy>=1.8.2 in /usr/local/lib/python3.6/dist-packages (from scipy) (1.16.3)\n",
            "Requirement already satisfied: pytest>=2 in /usr/local/lib/python3.6/dist-packages (from pyamg) (3.6.4)\n",
            "Collecting pybind11>=2.2 (from pyamg)\n",
            "\u001b[?25l  Downloading https://files.pythonhosted.org/packages/f2/7c/e71995e59e108799800cb0fce6c4b4927914d7eada0723dd20bae3b51786/pybind11-2.2.4-py2.py3-none-any.whl (145kB)\n",
            "\u001b[K     |████████████████████████████████| 153kB 45.3MB/s \n",
            "\u001b[?25hRequirement already satisfied: attrs>=17.4.0 in /usr/local/lib/python3.6/dist-packages (from pytest>=2->pyamg) (19.1.0)\n",
            "Requirement already satisfied: six>=1.10.0 in /usr/local/lib/python3.6/dist-packages (from pytest>=2->pyamg) (1.12.0)\n",
            "Requirement already satisfied: more-itertools>=4.0.0 in /usr/local/lib/python3.6/dist-packages (from pytest>=2->pyamg) (7.0.0)\n",
            "Requirement already satisfied: py>=1.5.0 in /usr/local/lib/python3.6/dist-packages (from pytest>=2->pyamg) (1.8.0)\n",
            "Requirement already satisfied: setuptools in /usr/local/lib/python3.6/dist-packages (from pytest>=2->pyamg) (41.0.1)\n",
            "Requirement already satisfied: pluggy<0.8,>=0.5 in /usr/local/lib/python3.6/dist-packages (from pytest>=2->pyamg) (0.7.1)\n",
            "Requirement already satisfied: atomicwrites>=1.0 in /usr/local/lib/python3.6/dist-packages (from pytest>=2->pyamg) (1.3.0)\n",
            "Installing collected packages: pybind11, pyamg\n",
            "Successfully installed pyamg-4.0.0 pybind11-2.2.4\n"
          ],
          "name": "stdout"
        }
      ]
    },
    {
      "cell_type": "code",
      "metadata": {
        "id": "sgcYNq2q18ro",
        "colab_type": "code",
        "colab": {}
      },
      "source": [
        "import numpy as np\n",
        "from PIL import Image\n",
        "import cv2\n",
        "from matplotlib import pyplot as plt\n",
        "%matplotlib inline"
      ],
      "execution_count": 0,
      "outputs": []
    },
    {
      "cell_type": "code",
      "metadata": {
        "id": "urgRjQ_ICrJH",
        "colab_type": "code",
        "colab": {}
      },
      "source": [
        "# import model metadata\n",
        "import json\n",
        "\n",
        "with open(\"drive/cGan2/args.json\") as f:\n",
        "  args = json.load(f)"
      ],
      "execution_count": 0,
      "outputs": []
    },
    {
      "cell_type": "code",
      "metadata": {
        "id": "Qx1qq45_6FCM",
        "colab_type": "code",
        "colab": {}
      },
      "source": [
        "class_weights = torch.tensor([0.,0.,0.,0.05,0.,0.95]).to(device)\n"
      ],
      "execution_count": 0,
      "outputs": []
    },
    {
      "cell_type": "code",
      "metadata": {
        "colab_type": "code",
        "outputId": "649ad785-60e1-4c87-d7ef-39341b3ad17f",
        "id": "BB1JObHr6Wrq",
        "colab": {
          "base_uri": "https://localhost:8080/",
          "height": 391
        }
      },
      "source": [
        "\n",
        "# from utils.py, with modification\n",
        "import torch\n",
        "import torch.nn as nn\n",
        "import torch.nn.functional as F\n",
        "from torch.nn import init\n",
        "\n",
        "import torch.nn as nn\n",
        "import torch.nn.functional as F\n",
        "from torch.nn import init\n",
        "\n",
        "import math\n",
        "\n",
        "device = torch.device('cuda')\n",
        "\n",
        "# \"categorical CBN\" begin\n",
        "class ConditionalBatchNorm2d(nn.BatchNorm2d):\n",
        "    \"\"\"Conditional Batch Normalization\"\"\"\n",
        "\n",
        "    def __init__(self, num_features, eps=1e-05, momentum=0.1,\n",
        "                 affine=False, track_running_stats=True):\n",
        "        super(ConditionalBatchNorm2d, self).__init__(\n",
        "            num_features, eps, momentum, affine, track_running_stats\n",
        "        )\n",
        "\n",
        "    def forward(self, input, weight, bias, **kwargs):\n",
        "        self._check_input_dim(input)\n",
        "\n",
        "        exponential_average_factor = 0.0\n",
        "\n",
        "        if self.training and self.track_running_stats:\n",
        "            self.num_batches_tracked += 1\n",
        "            if self.momentum is None:  # use cumulative moving average\n",
        "                exponential_average_factor = 1.0 / self.num_batches_tracked.item()\n",
        "            else:  # use exponential moving average\n",
        "                exponential_average_factor = self.momentum\n",
        "\n",
        "        output = F.batch_norm(input, self.running_mean, self.running_var,\n",
        "                              self.weight, self.bias,\n",
        "                              self.training or not self.track_running_stats,\n",
        "                              exponential_average_factor, self.eps)\n",
        "        if weight.dim() == 1:\n",
        "            weight = weight.unsqueeze(0)\n",
        "        if bias.dim() == 1:\n",
        "            bias = bias.unsqueeze(0)\n",
        "        size = output.size()\n",
        "        weight = weight.unsqueeze(-1).unsqueeze(-1).expand(size)\n",
        "        bias = bias.unsqueeze(-1).unsqueeze(-1).expand(size)\n",
        "        return weight * output + bias\n",
        "\n",
        "\n",
        "class CategoricalConditionalBatchNorm2d(ConditionalBatchNorm2d):\n",
        "\n",
        "    def __init__(self, num_classes, num_features, eps=1e-5, momentum=0.1,\n",
        "                 affine=False, track_running_stats=True):\n",
        "        super(CategoricalConditionalBatchNorm2d, self).__init__(\n",
        "            num_features, eps, momentum, affine, track_running_stats\n",
        "        )\n",
        "        self.weights = nn.Embedding(num_classes, num_features)\n",
        "        self.biases = nn.Embedding(num_classes, num_features)\n",
        "        \n",
        "        self.num_classes = num_classes\n",
        "        self.num_features = num_features\n",
        "        \n",
        "        self.device = device\n",
        "\n",
        "        self._initialize()\n",
        "\n",
        "    def _initialize(self):\n",
        "        init.ones_(self.weights.weight.data)\n",
        "        init.zeros_(self.biases.weight.data)\n",
        "\n",
        "    # Change the original CBN layer by passing in a list of class-encoding vectors\n",
        "    # and take linear combination of weights by coefficients specified in the \"class_weights\" list\n",
        "    def forward(self, input, c, **kwargs):\n",
        "      \n",
        "        weight = self.weights(c[0])*class_weights[0].to(self.device)\n",
        "        bias = self.biases(c[0])*class_weights[0].to(self.device)\n",
        "        \n",
        "        n = class_weights.size()\n",
        "        if class_weights.size(0)>1:\n",
        "          for i in [1,class_weights.size(0)-1]:\n",
        "            weight += self.weights(c[0])*class_weights[i]\n",
        "            bias += self.biases(c[0])*class_weights[i]\n",
        "\n",
        "        return super(CategoricalConditionalBatchNorm2d, self).forward(input, weight, bias)\n",
        "\n",
        "\n",
        "if __name__ == '__main__':\n",
        "    \"\"\"Forward computation check.\"\"\"\n",
        "    import torch\n",
        "    size = (3, 3, 12, 12)\n",
        "    batch_size, num_features = size[:2]\n",
        "    print('# Affirm embedding output')\n",
        "    naive_bn = nn.BatchNorm2d(3)\n",
        "    idx_input = torch.tensor([1, 2, 0], dtype=torch.long)\n",
        "    embedding = nn.Embedding(3, 3)\n",
        "    weights = embedding(idx_input)\n",
        "    print('# weights size', weights.size())\n",
        "    empty = torch.tensor((), dtype=torch.float)\n",
        "    running_mean = empty.new_zeros((3,))\n",
        "    running_var = empty.new_ones((3,))\n",
        "\n",
        "    naive_bn_W = naive_bn.weight\n",
        "    # print('# weights from embedding | type {}\\n'.format(type(weights)), weights)\n",
        "    # print('# naive_bn_W | type {}\\n'.format(type(naive_bn_W)), naive_bn_W)\n",
        "    input = torch.rand(*size, dtype=torch.float32)\n",
        "    print('input size', input.size())\n",
        "    print('input ndim ', input.dim())\n",
        "\n",
        "    _ = naive_bn(input)\n",
        "\n",
        "    print('# batch_norm with given weights')\n",
        "\n",
        "    try:\n",
        "        with torch.no_grad():\n",
        "            output = F.batch_norm(input, running_mean, running_var,\n",
        "                                  weights, naive_bn.bias, False, 0.0, 1e-05)\n",
        "    except Exception as e:\n",
        "        print(\"\\tFailed to use given weights\")\n",
        "        print('# Error msg:', e)\n",
        "        print()\n",
        "    else:\n",
        "        print(\"Succeeded to use given weights\")\n",
        "\n",
        "    print('\\n# Batch norm before use given weights')\n",
        "    with torch.no_grad():\n",
        "        tmp_out = F.batch_norm(input, running_mean, running_var,\n",
        "                               naive_bn_W, naive_bn.bias, False, .0, 1e-05)\n",
        "    weights_cast = weights.unsqueeze(-1).unsqueeze(-1)\n",
        "    weights_cast = weights_cast.expand(tmp_out.size())\n",
        "    try:\n",
        "        out = weights_cast * tmp_out\n",
        "    except Exception:\n",
        "        print(\"Failed\")\n",
        "    else:\n",
        "        print(\"Succeeded!\")\n",
        "        print('\\t {}'.format(out.size()))\n",
        "        print(type(tuple(out.size())))\n",
        "\n",
        "    print('--- condBN and catCondBN ---')\n",
        "\n",
        "    catCondBN = CategoricalConditionalBatchNorm2d(3, 3)\n",
        "    output = catCondBN(input, idx_input)\n",
        "\n",
        "    assert tuple(output.size()) == size\n",
        "\n",
        "    condBN = ConditionalBatchNorm2d(3)\n",
        "\n",
        "    idx = torch.tensor([1], dtype=torch.long)\n",
        "    out = catCondBN(input, idx)\n",
        "\n",
        "    print('cat cond BN weights\\n', catCondBN.weights.weight.data)\n",
        "    print('cat cond BN biases\\n', catCondBN.biases.weight.data)\n",
        "# \"categorical CBN\" end\n",
        "\n",
        "# \"resblocks.py\" begin\n",
        "def _upsample(x):\n",
        "    h, w = x.size()[2:]\n",
        "    return F.interpolate(x, size=(h * 2, w * 2), mode='bilinear')\n",
        "\n",
        "\n",
        "class Block(nn.Module):\n",
        "\n",
        "    def __init__(self, in_ch, out_ch, h_ch=None, ksize=3, pad=1,\n",
        "                 activation=F.relu, upsample=False, num_classes=0):\n",
        "        super(Block, self).__init__()\n",
        "\n",
        "        self.activation = activation\n",
        "        self.upsample = upsample\n",
        "        self.learnable_sc = in_ch != out_ch or upsample\n",
        "        if h_ch is None:\n",
        "            h_ch = out_ch\n",
        "        self.num_classes = num_classes\n",
        "\n",
        "        # Register layrs\n",
        "        self.c1 = nn.Conv2d(in_ch, h_ch, ksize, 1, pad)\n",
        "        self.c2 = nn.Conv2d(h_ch, out_ch, ksize, 1, pad)\n",
        "        if self.num_classes > 0:\n",
        "            self.b1 = CategoricalConditionalBatchNorm2d(\n",
        "                num_classes, in_ch)\n",
        "            self.b2 = CategoricalConditionalBatchNorm2d(\n",
        "                num_classes, h_ch)\n",
        "        else:\n",
        "            self.b1 = nn.BatchNorm2d(in_ch)\n",
        "            self.b2 = nn.BatchNorm2d(h_ch)\n",
        "        if self.learnable_sc:\n",
        "            self.c_sc = nn.Conv2d(in_ch, out_ch, 1)\n",
        "\n",
        "    def _initialize(self):\n",
        "        init.xavier_uniform_(self.c1.weight.tensor, gain=math.sqrt(2))\n",
        "        init.xavier_uniform_(self.c2.weight.tensor, gain=math.sqrt(2))\n",
        "        if self.learnable_sc:\n",
        "            init.xavier_uniform_(self.c_sc.weight.tensor, gain=1)\n",
        "\n",
        "    def forward(self, x, y=None, z=None, **kwargs):\n",
        "        return self.shortcut(x) + self.residual(x, y, z)\n",
        "\n",
        "    def shortcut(self, x, **kwargs):\n",
        "        if self.learnable_sc:\n",
        "            if self.upsample:\n",
        "                h = _upsample(x)\n",
        "            h = self.c_sc(h)\n",
        "            return h\n",
        "        else:\n",
        "            return x\n",
        "\n",
        "    def residual(self, x, y=None, z=None, **kwargs):\n",
        "        if y is not None:\n",
        "            h = self.b1(x, y, **kwargs)\n",
        "        else:\n",
        "            h = self.b1(x)\n",
        "        h = self.activation(h)\n",
        "        if self.upsample:\n",
        "            h = _upsample(h)\n",
        "        h = self.c1(h)\n",
        "        if y is not None:\n",
        "            h = self.b2(h, y, **kwargs)\n",
        "        else:\n",
        "            h = self.b2(h)\n",
        "        return self.c2(self.activation(h))\n",
        "# \"resblocks.py\" end\n",
        "\n",
        "class ResNetGenerator(nn.Module):\n",
        "    \"\"\"Generator generates 64x64.\"\"\"\n",
        "\n",
        "    def __init__(self, num_features=64, dim_z=128, bottom_width=4,\n",
        "                 activation=F.relu, num_classes=0, distribution='normal'):\n",
        "        super(ResNetGenerator, self).__init__()\n",
        "        self.num_features = num_features\n",
        "        self.dim_z = dim_z\n",
        "        self.bottom_width = bottom_width\n",
        "        self.activation = activation\n",
        "        self.num_classes = num_classes\n",
        "        self.distribution = distribution\n",
        "\n",
        "        self.l1 = nn.Linear(dim_z, 16 * num_features * bottom_width ** 2)\n",
        "\n",
        "        self.block2 = Block(num_features * 16, num_features * 8,\n",
        "                            activation=activation, upsample=True,\n",
        "                            num_classes=num_classes)\n",
        "        self.block3 = Block(num_features * 8, num_features * 4,\n",
        "                            activation=activation, upsample=True,\n",
        "                            num_classes=num_classes)\n",
        "        self.block4 = Block(num_features * 4, num_features * 2,\n",
        "                            activation=activation, upsample=True,\n",
        "                            num_classes=num_classes)\n",
        "        self.block5 = Block(num_features * 2, num_features,\n",
        "                            activation=activation, upsample=True,\n",
        "                            num_classes=num_classes)\n",
        "        self.b6 = nn.BatchNorm2d(num_features)\n",
        "        self.conv6 = nn.Conv2d(num_features, 3, 1, 1)\n",
        "\n",
        "    def _initialize(self):\n",
        "        init.xavier_uniform_(self.l1.weight.tensor)\n",
        "        init.xavier_uniform_(self.conv7.weight.tensor)\n",
        "\n",
        "    def forward(self, z, y=None, **kwargs):\n",
        "        h = self.l1(z).view(z.size(0), -1, self.bottom_width, self.bottom_width)\n",
        "        for i in range(2, 6):\n",
        "            h = getattr(self, 'block{}'.format(i))(h, y, **kwargs)\n",
        "        h = self.activation(self.b6(h))\n",
        "        return torch.tanh(self.conv6(h))"
      ],
      "execution_count": 64,
      "outputs": [
        {
          "output_type": "stream",
          "text": [
            "# Affirm embedding output\n",
            "# weights size torch.Size([3, 3])\n",
            "input size torch.Size([3, 3, 12, 12])\n",
            "input ndim  4\n",
            "# batch_norm with given weights\n",
            "\tFailed to use given weights\n",
            "# Error msg: weight should contain 3 elements not 9\n",
            "\n",
            "\n",
            "# Batch norm before use given weights\n",
            "Succeeded!\n",
            "\t torch.Size([3, 3, 12, 12])\n",
            "<class 'tuple'>\n",
            "--- condBN and catCondBN ---\n",
            "cat cond BN weights\n",
            " tensor([[1., 1., 1.],\n",
            "        [1., 1., 1.],\n",
            "        [1., 1., 1.]])\n",
            "cat cond BN biases\n",
            " tensor([[0., 0., 0.],\n",
            "        [0., 0., 0.],\n",
            "        [0., 0., 0.]])\n"
          ],
          "name": "stdout"
        }
      ]
    },
    {
      "cell_type": "code",
      "metadata": {
        "id": "E_fPD-5G2SlT",
        "colab_type": "code",
        "colab": {}
      },
      "source": [
        "# from gen import ResNetGenerator\n",
        "# define/import generator class\n",
        "G = ResNetGenerator(\n",
        "    args['gen_num_features'], args['gen_dim_z'], args['gen_bottom_width'],\n",
        "    num_classes=6, distribution=args['gen_distribution']\n",
        ")\n",
        "opt_gen = torch.optim.Adam(\n",
        "    G.parameters(), args['lr'], (args['beta1'], args['beta2'])\n",
        ")\n"
      ],
      "execution_count": 0,
      "outputs": []
    },
    {
      "cell_type": "code",
      "metadata": {
        "id": "JJofnkvYFVvU",
        "colab_type": "code",
        "colab": {}
      },
      "source": [
        "# Load trained generator weights #\n",
        "def load_model_optim(checkpoint_path, model=None, optim=None):\n",
        "    ckpt = torch.load(checkpoint_path)\n",
        "    if model is not None:\n",
        "        model.load_state_dict(ckpt['model'])\n",
        "    if optim is not None:\n",
        "        optim.load_state_dict(ckpt['opt'])\n",
        "    return model, optim\n",
        "\n",
        "G, opt_gen = load_model_optim(\"drive/cGan2/gen_latest.pth.tar\", G, opt_gen)"
      ],
      "execution_count": 0,
      "outputs": []
    },
    {
      "cell_type": "code",
      "metadata": {
        "id": "TMwyXjrM2asW",
        "colab_type": "code",
        "colab": {}
      },
      "source": [
        "import torch as _torch\n",
        "\n",
        "dtype = 'CUDA' # pick CUDA or CPU dtype\n",
        "class DeviceAgnosticModule(object):\n",
        "    def __getattribute__(self, name):\n",
        "        obj = getattr(torch, name)\n",
        "        if not callable(obj):\n",
        "            return obj\n",
        "        return functools.partial(obj, dtype=dtype)"
      ],
      "execution_count": 0,
      "outputs": []
    },
    {
      "cell_type": "code",
      "metadata": {
        "id": "c6Ku01CQKktl",
        "colab_type": "code",
        "colab": {}
      },
      "source": [
        "def cast(cuda):\n",
        "  if cuda:\n",
        "    return lambda x: x.cuda()\n",
        "  else:\n",
        "    return lambda x: x\n",
        "\n",
        "\n",
        "torch.cast = cast(False)\n",
        "a = G.cuda()\n",
        "   \n",
        " "
      ],
      "execution_count": 0,
      "outputs": []
    },
    {
      "cell_type": "code",
      "metadata": {
        "id": "8DOt62-8ZZ6f",
        "colab_type": "code",
        "colab": {}
      },
      "source": [
        "print(G)"
      ],
      "execution_count": 0,
      "outputs": []
    },
    {
      "cell_type": "code",
      "metadata": {
        "id": "SODmpvA8Zpix",
        "colab_type": "code",
        "colab": {}
      },
      "source": [
        "def generate_images(gen, device, batch_size=64, dim_z=128, distribution=None,\n",
        "                    num_classes=None, class_id=None):\n",
        "    \n",
        "    z = sample_z(batch_size, dim_z, device, distribution)\n",
        "    if num_classes is None and class_id is None:\n",
        "        y = None\n",
        "    elif num_classes is not None:\n",
        "        y = torch.ones([num_classes,batch_size], dtype=torch.long).to(device)\n",
        "    elif class_id is not None:\n",
        "        y = torch.ones([num_classes], dtype=torch.float64).to(device)\n",
        "        for _i in range(0, num_classes-1):\n",
        "          y[_i] = y[_i]*class_weights[_i]\n",
        "    else:\n",
        "        y = None\n",
        "    with torch.no_grad():\n",
        "        fake = gen(z, y)\n",
        "\n",
        "    return fake\n",
        "  \n",
        "def sample_z(batch_size, dim_z, device, distribution=None):\n",
        "   \n",
        "    if distribution is None:\n",
        "        distribution = 'normal'\n",
        "    if distribution == 'normal':\n",
        "        return torch.empty(batch_size, dim_z, dtype=torch.float32, device=device).normal_()\n",
        "    else:\n",
        "        return torch.empty(batch_size, dim_z, dtype=torch.float32, device=device).uniform_()\n",
        "\n",
        "\n",
        "def sample_pseudo_labels(num_classes, batch_size, device):\n",
        "   \n",
        "    pseudo_labels = torch.from_numpy(\n",
        "        numpy.random.randint(low=0, high=num_classes, size=(batch_size))\n",
        "    )\n",
        "    pseudo_labels = pseudo_labels.type(torch.long).to(device)\n",
        "    return pseudo_labels\n",
        "\n",
        "\n",
        "def save_images(count, root, fake):\n",
        "\n",
        "    fake_path = os.path.join(\n",
        "        'fake_{}.png'.format(count)\n",
        "    )\n",
        "    torchvision.utils.save_image(\n",
        "        fake, fake_path, nrow=4, normalize=True, scale_each=True\n",
        "    )\n",
        "    shutil.copy(fake_path, os.path.join(root, 'fake_interpolation.png'))\n",
        "    \n",
        "\n",
        "def load_model_optim(checkpoint_path, model=None, optim=None):\n",
        "\n",
        "    ckpt = torch.load(checkpoint_path)\n",
        "    if model is not None:\n",
        "        model.load_state_dict(ckpt['model'])\n",
        "    if optim is not None:\n",
        "        optim.load_state_dict(ckpt['opt'])\n",
        "    return model, optim\n",
        "\n",
        "\n",
        "def load_model(checkpoint_path, model):\n",
        "\n",
        "    return load_model_optim(checkpoint_path, model, None)[0]\n",
        "\n",
        "\n",
        "def load_optim(checkpoint_path, optim):\n",
        "\n",
        "    return load_model_optim(checkpoint_path, None, optim)[1]"
      ],
      "execution_count": 0,
      "outputs": []
    },
    {
      "cell_type": "code",
      "metadata": {
        "id": "jwI1j3IaOawa",
        "colab_type": "code",
        "outputId": "e660f94c-bf08-4e44-8b40-d8eea26f259c",
        "colab": {
          "base_uri": "https://localhost:8080/",
          "height": 71
        }
      },
      "source": [
        "# import numpy as numpy\n",
        "device = torch.device('cuda')\n",
        "fake = generate_images(G, device, batch_size=64, dim_z=128, distribution=None,\n",
        "                    num_classes=6, class_id=None)"
      ],
      "execution_count": 70,
      "outputs": [
        {
          "output_type": "stream",
          "text": [
            "/usr/local/lib/python3.6/dist-packages/torch/nn/functional.py:2539: UserWarning: Default upsampling behavior when mode=bilinear is changed to align_corners=False since 0.4.0. Please specify align_corners=True if the old behavior is desired. See the documentation of nn.Upsample for details.\n",
            "  \"See the documentation of nn.Upsample for details.\".format(mode))\n"
          ],
          "name": "stderr"
        }
      ]
    },
    {
      "cell_type": "code",
      "metadata": {
        "id": "Rf9NfJ7cOvUn",
        "colab_type": "code",
        "colab": {}
      },
      "source": [
        "# import torchvision\n",
        "# torchvision.utils.make_grid(fake, nrow=4, normalize=True, scale_each=True)"
      ],
      "execution_count": 0,
      "outputs": []
    },
    {
      "cell_type": "code",
      "metadata": {
        "id": "nQchrXJWRzrg",
        "colab_type": "code",
        "outputId": "f44f22d3-3649-44d7-b09a-434f3b55f802",
        "colab": {
          "base_uri": "https://localhost:8080/",
          "height": 286
        }
      },
      "source": [
        "def show(img):\n",
        "    npimg = img.numpy()\n",
        "    plt.imshow(np.transpose(npimg, (1,2,0)))\n",
        "show(fake[0].cpu())"
      ],
      "execution_count": 48,
      "outputs": [
        {
          "output_type": "stream",
          "text": [
            "Clipping input data to the valid range for imshow with RGB data ([0..1] for floats or [0..255] for integers).\n"
          ],
          "name": "stderr"
        },
        {
          "output_type": "display_data",
          "data": {
            "image/png": "[encoded data removed]",
            "text/plain": [
              "<Figure size 432x288 with 1 Axes>"
            ]
          },
          "metadata": {
            "tags": []
          }
        }
      ]
    },
    {
      "cell_type": "code",
      "metadata": {
        "id": "pui3Qn9_U1rr",
        "colab_type": "code",
        "colab": {}
      },
      "source": [
        "import matplotlib.pyplot as plt\n",
        "import matplotlib.image as mpimg\n",
        "import numpy as np\n",
        "fake1 = fake[0]\n",
        "img = fake.cpu().numpy()\n",
        "plt.imshow(img[1,1,:,:])"
      ],
      "execution_count": 0,
      "outputs": []
    },
    {
      "cell_type": "code",
      "metadata": {
        "colab_type": "code",
        "outputId": "4ba4aa84-7fd5-4d01-bcc2-8e4f042c9fc6",
        "id": "1eJYPKf18VqV",
        "colab": {
          "base_uri": "https://localhost:8080/",
          "height": 286
        }
      },
      "source": [
        "def show(img):\n",
        "    npimg = img.numpy()\n",
        "    plt.imshow(np.transpose(npimg, (1,2,0)))\n",
        "show(fake[0].cpu())"
      ],
      "execution_count": 61,
      "outputs": [
        {
          "output_type": "stream",
          "text": [
            "Clipping input data to the valid range for imshow with RGB data ([0..1] for floats or [0..255] for integers).\n"
          ],
          "name": "stderr"
        },
        {
          "output_type": "display_data",
          "data": {
            "image/png": "[encoded data removed]",
            "text/plain": [
              "<Figure size 432x288 with 1 Axes>"
            ]
          },
          "metadata": {
            "tags": []
          }
        }
      ]
    },
    {
      "cell_type": "code",
      "metadata": {
        "id": "3pdoQ3e58Zb-",
        "colab_type": "code",
        "colab": {
          "base_uri": "https://localhost:8080/",
          "height": 286
        },
        "outputId": "5a35d2b6-5c6b-4406-d7b0-f2a70f85d969"
      },
      "source": [
        "def show(img):\n",
        "    npimg = img.numpy()\n",
        "    plt.imshow(np.transpose(npimg, (1,2,0)))\n",
        "show(fake[7].cpu())"
      ],
      "execution_count": 104,
      "outputs": [
        {
          "output_type": "stream",
          "text": [
            "Clipping input data to the valid range for imshow with RGB data ([0..1] for floats or [0..255] for integers).\n"
          ],
          "name": "stderr"
        },
        {
          "output_type": "display_data",
          "data": {
            "image/png": "[encoded data removed]",
            "text/plain": [
              "<Figure size 432x288 with 1 Axes>"
            ]
          },
          "metadata": {
            "tags": []
          }
        }
      ]
    },
    {
      "cell_type": "code",
      "metadata": {
        "id": "sKjswcXc8qNl",
        "colab_type": "code",
        "colab": {}
      },
      "source": [
        ""
      ],
      "execution_count": 0,
      "outputs": []
    }
  ]
}